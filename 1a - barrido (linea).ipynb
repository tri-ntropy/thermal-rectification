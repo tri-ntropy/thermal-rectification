{
 "cells": [
  {
   "attachments": {},
   "cell_type": "markdown",
   "id": "6b48e44b-7cef-4283-b897-7f75bc52ef14",
   "metadata": {},
   "source": [
    "# Barrido de soluciones del modelo de Fourier (gráficas de línea)\n",
    "# $$\\dfrac{\\partial T}{\\partial t} = \\alpha \\dfrac{\\partial}{\\partial x}\\left[ D \\dfrac{\\partial T}{\\partial x} \\right] + \\beta \\dfrac{\\partial T}{\\partial x} + \\varsigma$$ \n",
    "\n",
    "# $$q = - k \\dfrac{\\partial T}{\\partial x}$$"
   ]
  },
  {
   "cell_type": "markdown",
   "id": "314395d1-ec6f-4bb8-970c-c161e354bfbc",
   "metadata": {},
   "source": [
    "La ecuación de transporte esta dada en su forma adimensional por medio de las siguientes variables adimensionales y parámetros:\n",
    "* $T$ es la temperatura\n",
    "* $t$ es el tiempo\n",
    "* $x$ es la dirección espacial x\n",
    "* $q$ es el flujo de calor\n",
    "* $D$ es la difusividad térmica $D = k c^{-1}$\n",
    "* Con $k$ la conductividad térmica y $c$ el producto de la densidad $\\rho$ con la capacidad calofífica a volumen constante $C_v$\n",
    "* El parámetro $\\alpha$ es el número de Fourier $\\alpha = D_0 t_0 L^{-2}$\n",
    "* Con $t_0$ es el tiempo carácterisco, $D_0$ es la difusividad térmica de referencia del material y $L$ es la longitud del material\n",
    "* El parámetro $\\beta$ esta definido por $\\beta = \\alpha D \\tfrac{\\partial}{\\partial x} \\left[ \\log (c) \\right]$\n",
    "* El parámetro $\\varsigma$ es la interacción del sistema con el ambiente\n",
    "\n",
    "Este problema en particular se va a resolver para dos casos a las condiciones de frontera:\n",
    "* Caso 1: $T(0, t) = 1 + A (\\sin(\\omega_i t) + 1) \\quad$ y $\\quad T(1, t) = 1$\n",
    "* Caso 2: $T(0, t) = 1 \\quad$ y $\\quad T(1, t) = 1 + A (\\sin(\\omega_i t) + 1)$\n",
    "\n",
    "Donde se hace el barrido de frecuencias $\\omega_i \\in [\\omega_0, \\omega_n]$. \n",
    "\n",
    "Ambos casos con la condición inicial\n",
    "* $T(x, 0) = 1$\n"
   ]
  },
  {
   "cell_type": "markdown",
   "id": "e41bf9ca-8493-4e86-9c91-d00395802d9d",
   "metadata": {},
   "source": [
    "## Importación de bibliotecas\n",
    "Estas bibliotecas son las necesarias para llevar a cabo la simulación"
   ]
  },
  {
   "cell_type": "code",
   "execution_count": null,
   "id": "dbca99ec-af19-41ea-b944-54147d1c6093",
   "metadata": {},
   "outputs": [],
   "source": [
    "from IPython import display\n",
    "import ipywidgets                # Barra de progreso\n",
    "import numpy as np               # Cálculos numéricos basados en los arreglos numpy\n",
    "import matplotlib.pyplot as plt  # Graficación\n",
    "import scienceplots              # Estilos de graficacion\n",
    "import seaborn as sns\n",
    "from numba import jit            # Incrementa la velocidad de la simulación\n",
    "from scipy import integrate      # Modulo de integracion\n",
    "import modulo_fourier as mf      # Módulo que contiene las derivadas y el solver"
   ]
  },
  {
   "cell_type": "markdown",
   "id": "815214a1-c6cb-4219-b604-6d6775c3a4af",
   "metadata": {
    "tags": []
   },
   "source": [
    "## Opciones de graficación\n",
    "Estética de las gráficas"
   ]
  },
  {
   "cell_type": "code",
   "execution_count": null,
   "id": "145df71f-769c-470c-936f-1eb120bcf5dd",
   "metadata": {},
   "outputs": [],
   "source": [
    "sns.set_context(\"paper\", font_scale = 1.5)\n",
    "plt.style.use([\"science\", \"grid\"])"
   ]
  },
  {
   "cell_type": "markdown",
   "id": "8b686f94-963b-4762-bf59-be0b20197a57",
   "metadata": {},
   "source": [
    "## Simulación\n",
    "Función de Python que realiza la simulación numérica para cada frecuencia. A continuación se tiene el pseudo-código:\n",
    "1. Generar la frontera oscilatoria dado el valor de la frecuencia (y amplitud).\n",
    "2. Inicializar el arreglo de la solucion para la temperatura (condiciones iniciales)\n",
    "3. Aplicar las condiciones de frontera fijas, posteriormente en el loop for se actualizan las oscilantes\n",
    "4. Inicializar las series de tiempo del flujo de calor, aquí se registra el flujo de calor de la pared fija\n",
    "5. Usando diferencias finitas en el espacio y Runge-Kutta en el tiempo, se realiza la simulación. \n",
    "   Durante la simulación, se construyen las series de tiempo del flujo de calor\n",
    "6. Se devuelve la serie de tiempo del flujo de calor"
   ]
  },
  {
   "cell_type": "code",
   "execution_count": null,
   "id": "e4a07935-a7bb-4005-b2a7-8a32f9476af0",
   "metadata": {},
   "outputs": [],
   "source": [
    "@jit(nopython = True)\n",
    "def simulacion(amplitud, frecuencia, interaccion, valfa, vbeta, dif, con, tiempo, nt, nx, dt, dx):\n",
    "    # Generación de la frontera oscilatoria\n",
    "    frontera = 1 + amplitud * (np.sin(frecuencia * tiempo) + 1)\n",
    "    # Condición inicial\n",
    "    sol1_temperatura = np.linspace(frontera[0], 1, nx + 1)\n",
    "    sol2_temperatura = np.linspace(1, frontera[0], nx + 1)\n",
    "    # Inicializacion de las series de tiempo del flujo de calor\n",
    "    series1_flujocalor = np.zeros(nt + 1)\n",
    "    series2_flujocalor = np.zeros(nt + 1)\n",
    "    # Simulacion\n",
    "    for n in range(nt + 1):\n",
    "        # Actualización de la frontera oscilatoria\n",
    "        sol1_temperatura[0] = frontera[n]\n",
    "        sol2_temperatura[-1] = frontera[n]\n",
    "        # Calculo de la Temperatura\n",
    "        sol1_temperatura = mf.rungekutta(sol1_temperatura, interaccion, valfa, vbeta, dif, dx, dt)\n",
    "        sol2_temperatura = mf.rungekutta(sol2_temperatura, interaccion, valfa, vbeta, dif, dx, dt)\n",
    "        # Calculo del flujo de calor\n",
    "        grad1_temperatura = mf.ddx(sol1_temperatura, dx, full = True)\n",
    "        grad2_temperatura = mf.ddx(sol2_temperatura, dx, full = True)\n",
    "        sol1_flujocalor = mf.calc_q(con, grad1_temperatura)\n",
    "        sol2_flujocalor = mf.calc_q(con, grad2_temperatura) \n",
    "        # Captura de los valores para la serie de tiempo, en la pared fija\n",
    "        series1_flujocalor[n] = sol1_flujocalor[-1]\n",
    "        series2_flujocalor[n] = sol2_flujocalor[0]\n",
    "    #Devolver las series del flujo de calor del caso 1 y caso 2\n",
    "    return series1_flujocalor, series2_flujocalor"
   ]
  },
  {
   "cell_type": "markdown",
   "id": "24de8aaa-7e8f-4db8-b9a4-8479aec1be6b",
   "metadata": {},
   "source": [
    "## Dominio espacial\n",
    "\n",
    "La solución numérica del problema se presenta solo en una dimensión espacial"
   ]
  },
  {
   "cell_type": "code",
   "execution_count": null,
   "id": "e58bc638-1363-4bcc-b989-3ae7423b0335",
   "metadata": {},
   "outputs": [],
   "source": [
    "nx = 256                        # Numero de pasos en el espacio\n",
    "Lx = 1.0                        # Longitud del dominio espacial\n",
    "x = np.linspace(0, Lx, nx + 1)  # Vector del dominio espacial, contiene nx+1 puntos incluyendo el 0\n",
    "dx = x[1] - x[0]                # Tamaño de paso en el espacio\n",
    "dx"
   ]
  },
  {
   "cell_type": "markdown",
   "id": "5a272106-f1c3-4833-aaaa-3b29da514a1c",
   "metadata": {},
   "source": [
    "## Dominio temporal\n",
    "\n",
    "El tiempo que se pretende dar solución al sistema de ecuaciones"
   ]
  },
  {
   "cell_type": "code",
   "execution_count": null,
   "id": "d3abd34b-a513-4109-b472-84a8893f9e52",
   "metadata": {},
   "outputs": [],
   "source": [
    "nt = 2_000_000                  # Numero de pasos en el tiempo\n",
    "Lt = 20.0                       # Longitud del dominio temporal\n",
    "t = np.linspace(0, Lt, nt + 1)  # Vector del dominio temporal, contiene nt+1 puntos incluyendo el 0\n",
    "dt = t[1] - t[0]                # Tamaño de paso en el tiempo\n",
    "dt"
   ]
  },
  {
   "cell_type": "markdown",
   "id": "38718db5-c8d2-483d-a70f-0e65bd162c0f",
   "metadata": {},
   "source": [
    "## Construcción del material"
   ]
  },
  {
   "attachments": {},
   "cell_type": "markdown",
   "id": "e8721d81",
   "metadata": {},
   "source": [
    "### Exponentes"
   ]
  },
  {
   "cell_type": "code",
   "execution_count": null,
   "id": "c3d93c44-4331-408c-a6d2-ae2e9ba52214",
   "metadata": {},
   "outputs": [],
   "source": [
    "nexp = 4\n",
    "exponente = np.linspace(1.0, 10.0, num = nexp)"
   ]
  },
  {
   "attachments": {},
   "cell_type": "markdown",
   "id": "a905db1f",
   "metadata": {},
   "source": [
    "### Concentración"
   ]
  },
  {
   "cell_type": "code",
   "execution_count": null,
   "id": "3ce46427-bb8d-444e-a536-75ba67eaf732",
   "metadata": {},
   "outputs": [],
   "source": [
    "concentracion = np.empty((nexp, nx + 1))\n",
    "for e in range(nexp):\n",
    "    concentracion[e] = 1 - x ** exponente[e]"
   ]
  },
  {
   "cell_type": "markdown",
   "id": "ccfe136d",
   "metadata": {},
   "source": [
    "### Gráfica de la concentración"
   ]
  },
  {
   "cell_type": "code",
   "execution_count": null,
   "id": "fee2c8f5-00b4-4e12-b9ae-996f548981d5",
   "metadata": {},
   "outputs": [],
   "source": [
    "plt.figure(figsize = (5, 5))\n",
    "plt.xlabel(\"$x$\")\n",
    "plt.ylabel(\"$c(x)$\")\n",
    "for e in range(nexp):\n",
    "    plt.plot(x, concentracion[e], label = f\"$n = {int(exponente[e])}$\")\n",
    "plt.legend(loc = \"best\")\n",
    "plt.savefig(\"graficas/concentracion_material.pdf\", dpi = 300, bbox_inches = \"tight\")\n",
    "plt.show()"
   ]
  },
  {
   "attachments": {},
   "cell_type": "markdown",
   "id": "f76f886d",
   "metadata": {},
   "source": [
    "### Densidad, Capacidad Calorífica y Conductividad Térmica base del Si y Ge"
   ]
  },
  {
   "cell_type": "code",
   "execution_count": null,
   "id": "cf9352dd-21a9-4c87-9557-771c01594db0",
   "metadata": {},
   "outputs": [],
   "source": [
    "# Densidad\n",
    "densidad_si = 2330.0\n",
    "densidad_ge = 5322.0\n",
    "# Capacidad Calorífica\n",
    "cap_calor_si = 710.0\n",
    "cap_calor_ge = 320.0\n",
    "# Conductividad Térmica\n",
    "conductividad_si = 43.58\n",
    "conductividad_ge = 23.50"
   ]
  },
  {
   "attachments": {},
   "cell_type": "markdown",
   "id": "f66f11cc",
   "metadata": {},
   "source": [
    "### Densidad y Capacidad Calorífica dimensional sobre todo el material"
   ]
  },
  {
   "cell_type": "code",
   "execution_count": null,
   "id": "bfcbdfc5-f125-4e9f-b054-c0ea6251da59",
   "metadata": {},
   "outputs": [],
   "source": [
    "densidad_dim = densidad_ge + (densidad_si - densidad_ge) * concentracion\n",
    "cap_calor_dim = cap_calor_ge + (cap_calor_si - cap_calor_ge) * concentracion"
   ]
  },
  {
   "attachments": {},
   "cell_type": "markdown",
   "id": "1fdf0c31",
   "metadata": {},
   "source": [
    "### Coeficientes del polinomio"
   ]
  },
  {
   "cell_type": "code",
   "execution_count": null,
   "id": "7390e461-800e-4ddc-8e9f-7bdaab563dc1",
   "metadata": {},
   "outputs": [],
   "source": [
    "coef_a = 1.348\n",
    "coef_b = 6.38\n",
    "coef_d = -5.363 \n",
    "coef_e = 22.145\n",
    "coef_f = 252.53\n",
    "coef_g = -251.94"
   ]
  },
  {
   "cell_type": "code",
   "execution_count": null,
   "id": "914a9881",
   "metadata": {},
   "outputs": [],
   "source": [
    "conductividad_dummy = (\n",
    "    coef_a * np.exp(coef_b + coef_d) +\n",
    "    coef_e * np.exp(coef_f + coef_g)\n",
    ")\n",
    "\n",
    "conductividad_dummy"
   ]
  },
  {
   "attachments": {},
   "cell_type": "markdown",
   "id": "e4eebfa5",
   "metadata": {},
   "source": [
    "### Conductividad Térmica dimensional sobre todo el material (polinomio)"
   ]
  },
  {
   "cell_type": "code",
   "execution_count": null,
   "id": "5e820677-ddf9-492c-8e4c-86b58cd92762",
   "metadata": {},
   "outputs": [],
   "source": [
    "conductividad_dim = (\n",
    "    coef_a * np.exp(concentracion * (coef_d + (coef_b * concentracion))) +\n",
    "    coef_e * np.exp(concentracion * (coef_g + (coef_f * concentracion)))\n",
    ")\n",
    "\n",
    "difusividad_dim = conductividad_dim / (densidad_dim * cap_calor_dim)"
   ]
  },
  {
   "attachments": {},
   "cell_type": "markdown",
   "id": "f7122e08",
   "metadata": {},
   "source": [
    "### Densidad, Capacidad Calorífica, Conductividad Térmica y Difusividad Térmica adimensional"
   ]
  },
  {
   "cell_type": "code",
   "execution_count": null,
   "id": "445c2301-406d-4007-870e-56ede3722810",
   "metadata": {},
   "outputs": [],
   "source": [
    "densidad = densidad_dim / densidad_si\n",
    "cap_calor = cap_calor_dim / cap_calor_si\n",
    "conductividad = conductividad_dim / conductividad_si\n",
    "difusividad = conductividad / (densidad * cap_calor)"
   ]
  },
  {
   "attachments": {},
   "cell_type": "markdown",
   "id": "61a12723",
   "metadata": {},
   "source": [
    "### Gráfica de la Densidad"
   ]
  },
  {
   "cell_type": "code",
   "execution_count": null,
   "id": "ab463dea-afa7-40ed-a2fa-c3da9d0a8adc",
   "metadata": {},
   "outputs": [],
   "source": [
    "plt.figure(figsize = (5, 5))\n",
    "plt.xlabel(\"$x$\")\n",
    "plt.ylabel(\"$\\\\rho (x)$\")\n",
    "for e in range(nexp):\n",
    "    plt.plot(x, densidad[e], label = f\"$n = {int(exponente[e])}$\")\n",
    "plt.legend(loc = \"best\")\n",
    "plt.savefig(\"graficas/densidad_material.pdf\", dpi = 300, bbox_inches = \"tight\")\n",
    "plt.show()"
   ]
  },
  {
   "attachments": {},
   "cell_type": "markdown",
   "id": "0f7d9a9a",
   "metadata": {},
   "source": [
    "### Gráfica de la Capacidad Calorífica"
   ]
  },
  {
   "cell_type": "code",
   "execution_count": null,
   "id": "990d2763-0b85-4549-914d-b98a8ee0190a",
   "metadata": {},
   "outputs": [],
   "source": [
    "plt.figure(figsize = (5, 5))\n",
    "plt.xlabel(\"$x$\")\n",
    "plt.ylabel(\"$C_v(x)$\")\n",
    "for e in range(nexp):\n",
    "    plt.plot(x, cap_calor[e], label = f\"$n = {int(exponente[e])}$\")\n",
    "plt.legend(loc = \"best\")\n",
    "plt.savefig(\"graficas/capcalor_material.pdf\", dpi = 300, bbox_inches = \"tight\")\n",
    "plt.show()"
   ]
  },
  {
   "attachments": {},
   "cell_type": "markdown",
   "id": "6f98b604",
   "metadata": {},
   "source": [
    "### Gráfica de la Conductividad Térmica"
   ]
  },
  {
   "cell_type": "code",
   "execution_count": null,
   "id": "9a66dcec-db5a-4fc9-9cfe-5c0739e02b38",
   "metadata": {},
   "outputs": [],
   "source": [
    "plt.figure(figsize = (5, 5))\n",
    "plt.xlabel(\"$x$\")\n",
    "plt.ylabel(\"$k(x)$\")\n",
    "for e in range(nexp):\n",
    "    plt.plot(x, conductividad[e], label = f\"$n = {int(exponente[e])}$\")\n",
    "plt.legend(loc = \"best\")\n",
    "plt.savefig(\"graficas/conductividad_material.pdf\", dpi = 300, bbox_inches = \"tight\")\n",
    "plt.show()"
   ]
  },
  {
   "attachments": {},
   "cell_type": "markdown",
   "id": "faed40a9",
   "metadata": {},
   "source": [
    "### Gráfica de la Difusividad Térmica"
   ]
  },
  {
   "cell_type": "code",
   "execution_count": null,
   "id": "bb66a4b1-9587-408a-a666-46368fdb2ed5",
   "metadata": {},
   "outputs": [],
   "source": [
    "plt.figure(figsize = (5, 5))\n",
    "plt.xlabel(\"$x$\")\n",
    "plt.ylabel(\"$D(x)$\")\n",
    "for e in range(nexp):\n",
    "    plt.plot(x, difusividad[e], label = f\"$n = {int(exponente[e])}$\")\n",
    "plt.legend(loc = \"best\")\n",
    "plt.savefig(\"graficas/difusividad_material.pdf\", dpi = 300, bbox_inches = \"tight\")\n",
    "plt.show()"
   ]
  },
  {
   "cell_type": "markdown",
   "id": "1f98c026-9e74-46a9-a212-ff38b23df680",
   "metadata": {
    "tags": []
   },
   "source": [
    "### Número de Fourier \n",
    "Como la conductividad/difusividad térmica adimensional ya está normalizada, se establece el término $D_0 = 1$\n",
    "\n",
    "Si se quiere que $\\alpha = 1$ entonces $t_0 = L^2 \\Delta t_0^{-1}$"
   ]
  },
  {
   "cell_type": "code",
   "execution_count": null,
   "id": "5fea3f66-6b64-41d7-a874-61e683440dae",
   "metadata": {},
   "outputs": [],
   "source": [
    "dif_0 = 1.0\n",
    "dt_0 = (Lx ** 2) / dif_0\n",
    "alfa = dif_0 * dt_0 / (Lx**2)\n",
    "alfa"
   ]
  },
  {
   "cell_type": "markdown",
   "id": "9baf5b44-aaef-4a02-b6c1-4621bbb12de9",
   "metadata": {},
   "source": [
    "### Arreglos del número de Fourier $\\alpha$\n",
    "Los arreglos son del tamaño del dominio espacial, sin embargo, aunque son constantes, los extremos (valores a la frontera) son cero para no modificar las fronteras del problema"
   ]
  },
  {
   "cell_type": "code",
   "execution_count": null,
   "id": "5dec8390-c648-4cef-8128-75afaaefac82",
   "metadata": {},
   "outputs": [],
   "source": [
    "valfa = alfa * np.ones(nx + 1)  # Vector/arreglo alfa\n",
    "valfa[0], valfa[-1] = 0, 0      # Extremos del vector/arreglo alfa"
   ]
  },
  {
   "cell_type": "markdown",
   "id": "2c5be2d6-ad03-4cb1-9fc1-93b7fd9fba70",
   "metadata": {},
   "source": [
    "### Arreglos del parametro $\\beta$\n",
    "Los arreglos son del tamaño del dominio espacial, sin embargo, aunque son constantes, los extremos (valores a la frontera) son cero para no modificar las fronteras del problema"
   ]
  },
  {
   "cell_type": "code",
   "execution_count": null,
   "id": "b721ea5e-f107-4409-95ae-20a5f44ae1b8",
   "metadata": {},
   "outputs": [],
   "source": [
    "vbeta = np.empty((nexp, nx + 1))\n",
    "for e in range(nexp):\n",
    "    vbeta[e] = valfa * difusividad[e] * mf.ddx(np.log(densidad[e] * cap_calor[e]), dx)  # Vector/arreglo beta"
   ]
  },
  {
   "cell_type": "markdown",
   "id": "71963c6d-a5c6-4616-8d7a-6fe6533f9975",
   "metadata": {},
   "source": [
    "## Interacción con el ambiente\n",
    "Para este caso, el sistema es cerrado"
   ]
  },
  {
   "cell_type": "code",
   "execution_count": null,
   "id": "25f9bb69-4a59-49d8-95ae-1d1a2117d1f9",
   "metadata": {},
   "outputs": [],
   "source": [
    "interaccion = np.zeros(nx + 1)"
   ]
  },
  {
   "cell_type": "markdown",
   "id": "d6f515b3-e0ad-4307-8af0-aefbc5158078",
   "metadata": {
    "tags": []
   },
   "source": [
    "### Amplitud de la frontera oscilante\n",
    "De momento, es constante y no se va a hacer ningún barrido sobre ella"
   ]
  },
  {
   "cell_type": "code",
   "execution_count": null,
   "id": "5d5ff3e7-a415-4f6a-b3cb-51f9afb358d6",
   "metadata": {},
   "outputs": [],
   "source": [
    "amplitud = 0.1"
   ]
  },
  {
   "cell_type": "markdown",
   "id": "2eb75f86-b544-4e26-817e-129825e71fbe",
   "metadata": {
    "tags": []
   },
   "source": [
    "### Frecuencias de la frontera oscilante\n",
    "Se genera un arreglo de frecuencias para la frontera oscilante. Los valores precisos de la frecuencia no son importantes sin embargo, si lo es su orden de magnitud, con esta idea, se contruye el arreglo generando valores aleatorios de la frecuencia a partir de valores base"
   ]
  },
  {
   "cell_type": "code",
   "execution_count": null,
   "id": "09ca424a-6d90-4ce0-a417-320bcb7b012d",
   "metadata": {},
   "outputs": [],
   "source": [
    "frecuencias = np.loadtxt(\"datos/frecuencias_linea.csv\")\n",
    "nft = frecuencias.size\n",
    "nft"
   ]
  },
  {
   "cell_type": "markdown",
   "id": "41d091eb-f256-4344-9a10-4dae84ec9cb9",
   "metadata": {},
   "source": [
    "### Arreglos de datos\n",
    "Inicialización de los arreglos de los flujos de calor máximos y mínimos. Contiene el mismo número de entradas que el arreglo de frecuencias."
   ]
  },
  {
   "cell_type": "code",
   "execution_count": null,
   "id": "9b7abce1-293c-4580-8a07-d94e01e37df9",
   "metadata": {},
   "outputs": [],
   "source": [
    "flujocalor_der = np.zeros((nexp, nft))\n",
    "flujocalor_izq = np.zeros((nexp, nft))"
   ]
  },
  {
   "cell_type": "markdown",
   "id": "ff7f8810-d50b-4879-acdf-6f4c679b4a8b",
   "metadata": {},
   "source": [
    "### Iteraciones de la simulación\n",
    "Calcula los valores máximos y mínimos del flujo de calor para cada frecuencia. Al terminar, cálcula la rectificación térmica"
   ]
  },
  {
   "cell_type": "code",
   "execution_count": null,
   "id": "479f9a80-7366-4339-9b6e-f018033147b0",
   "metadata": {},
   "outputs": [],
   "source": [
    "# Barra de progreso\n",
    "progreso = ipywidgets.FloatProgress(\n",
    "    value = 0,\n",
    "    min = 0,\n",
    "    max = nexp * nft, \n",
    "    description = 'Progreso:')\n",
    "display.display(progreso)\n",
    "\n",
    "# Proceso de barrido sobre las frecuencias, una por una. Despues se buscara paralelizar este proceso y/o usar cuda para el calculo\n",
    "progreso.value = 0\n",
    "for e in range(nexp):\n",
    "    for f in range(nft):\n",
    "        series_der_flujocalor, series_izq_flujocalor = simulacion(\n",
    "            amplitud, frecuencias[f], interaccion, valfa, vbeta[e], difusividad[e], conductividad[e], t, nt, nx, dt, dx)\n",
    "        \n",
    "        flujocalor_der[e, f] = integrate.simps(series_der_flujocalor, t) / Lt\n",
    "        flujocalor_izq[e, f] = integrate.simps(series_izq_flujocalor, t) / Lt\n",
    "        \n",
    "        progreso.value = 1 + f + e * nft"
   ]
  },
  {
   "attachments": {},
   "cell_type": "markdown",
   "id": "33ae6f70-3c5e-4597-8804-68e83c31b43a",
   "metadata": {},
   "source": [
    "### Archivos de datos\n",
    "Archivo .csv de la pareja ordenada del flujo de calor del caso 1 y el flujo de calor del caso 2"
   ]
  },
  {
   "cell_type": "code",
   "execution_count": null,
   "id": "230e40e4-ebc9-4998-96af-1f6a94342a95",
   "metadata": {},
   "outputs": [],
   "source": [
    "np.savetxt(\"datos/exponente_linea.csv\", exponente)\n",
    "np.savetxt(\"datos/flujocalor_izq_linea.csv\", flujocalor_izq)\n",
    "np.savetxt(\"datos/flujocalor_der_linea.csv\", flujocalor_der)"
   ]
  }
 ],
 "metadata": {
  "kernelspec": {
   "display_name": "base",
   "language": "python",
   "name": "python3"
  },
  "language_info": {
   "codemirror_mode": {
    "name": "ipython",
    "version": 3
   },
   "file_extension": ".py",
   "mimetype": "text/x-python",
   "name": "python",
   "nbconvert_exporter": "python",
   "pygments_lexer": "ipython3",
   "version": "3.11.4"
  },
  "vscode": {
   "interpreter": {
    "hash": "5c4590bf2d3468efc31a2644735443d7129475db15d3a9123d91cb9c3c861e16"
   }
  }
 },
 "nbformat": 4,
 "nbformat_minor": 5
}
