{
 "cells": [
  {
   "attachments": {},
   "cell_type": "markdown",
   "metadata": {},
   "source": [
    "# Rectificación térmica"
   ]
  },
  {
   "cell_type": "code",
   "execution_count": 1,
   "metadata": {},
   "outputs": [],
   "source": [
    "import matplotlib.pyplot as plt\n",
    "import scienceplots\n",
    "import seaborn as sns\n",
    "import pandas as pd\n",
    "import numpy as np"
   ]
  },
  {
   "cell_type": "markdown",
   "metadata": {},
   "source": [
    "## Opciones de graficación\n",
    "Estética de las gráficas"
   ]
  },
  {
   "cell_type": "code",
   "execution_count": 2,
   "metadata": {},
   "outputs": [],
   "source": [
    "sns.set_context(\"paper\", font_scale = 1.6)\n",
    "plt.style.use([\"science\", \"grid\"])"
   ]
  },
  {
   "cell_type": "markdown",
   "metadata": {},
   "source": [
    "## Archivos con los datos del flujo de calor"
   ]
  },
  {
   "cell_type": "code",
   "execution_count": 3,
   "metadata": {},
   "outputs": [
    {
     "data": {
      "text/plain": [
       "91"
      ]
     },
     "execution_count": 3,
     "metadata": {},
     "output_type": "execute_result"
    }
   ],
   "source": [
    "frecuencias = np.loadtxt(\"datos/frecuencias_heatmap.csv\")\n",
    "frecuencias.size"
   ]
  },
  {
   "cell_type": "code",
   "execution_count": 4,
   "metadata": {},
   "outputs": [],
   "source": [
    "exponentes = np.loadtxt(\"datos/exponente_heatmap.csv\").astype(int)\n",
    "nexp = exponentes.size"
   ]
  },
  {
   "cell_type": "code",
   "execution_count": 5,
   "metadata": {},
   "outputs": [
    {
     "data": {
      "text/plain": [
       "(10, 91)"
      ]
     },
     "execution_count": 5,
     "metadata": {},
     "output_type": "execute_result"
    }
   ],
   "source": [
    "flujocalor_izq = np.loadtxt(\"datos/flujocalor_izq_heatmap.csv\")\n",
    "flujocalor_izq.shape"
   ]
  },
  {
   "cell_type": "code",
   "execution_count": 6,
   "metadata": {},
   "outputs": [
    {
     "data": {
      "text/plain": [
       "(10, 91)"
      ]
     },
     "execution_count": 6,
     "metadata": {},
     "output_type": "execute_result"
    }
   ],
   "source": [
    "flujocalor_der = np.loadtxt(\"datos/flujocalor_der_heatmap.csv\")\n",
    "flujocalor_der.shape"
   ]
  },
  {
   "cell_type": "code",
   "execution_count": 7,
   "metadata": {},
   "outputs": [],
   "source": [
    "if np.all(flujocalor_der > flujocalor_izq):\n",
    "    flujocalor_max = flujocalor_der\n",
    "    flujocalor_min = flujocalor_izq\n",
    "else:\n",
    "    flujocalor_max = flujocalor_izq\n",
    "    flujocalor_min = flujocalor_der"
   ]
  },
  {
   "cell_type": "code",
   "execution_count": 8,
   "metadata": {},
   "outputs": [
    {
     "data": {
      "text/plain": [
       "(10, 91)"
      ]
     },
     "execution_count": 8,
     "metadata": {},
     "output_type": "execute_result"
    }
   ],
   "source": [
    "flujocalor = flujocalor_max - flujocalor_min\n",
    "flujocalor.shape"
   ]
  },
  {
   "cell_type": "code",
   "execution_count": 9,
   "metadata": {},
   "outputs": [
    {
     "data": {
      "text/html": [
       "<div>\n",
       "<style scoped>\n",
       "    .dataframe tbody tr th:only-of-type {\n",
       "        vertical-align: middle;\n",
       "    }\n",
       "\n",
       "    .dataframe tbody tr th {\n",
       "        vertical-align: top;\n",
       "    }\n",
       "\n",
       "    .dataframe thead th {\n",
       "        text-align: right;\n",
       "    }\n",
       "</style>\n",
       "<table border=\"1\" class=\"dataframe\">\n",
       "  <thead>\n",
       "    <tr style=\"text-align: right;\">\n",
       "      <th></th>\n",
       "      <th>0.0010</th>\n",
       "      <th>0.0015</th>\n",
       "      <th>0.0020</th>\n",
       "      <th>0.0025</th>\n",
       "      <th>0.0030</th>\n",
       "      <th>0.0035</th>\n",
       "      <th>0.0040</th>\n",
       "      <th>0.0045</th>\n",
       "      <th>0.0050</th>\n",
       "      <th>0.0055</th>\n",
       "      <th>...</th>\n",
       "      <th>55.0000</th>\n",
       "      <th>60.0000</th>\n",
       "      <th>65.0000</th>\n",
       "      <th>70.0000</th>\n",
       "      <th>75.0000</th>\n",
       "      <th>80.0000</th>\n",
       "      <th>85.0000</th>\n",
       "      <th>90.0000</th>\n",
       "      <th>95.0000</th>\n",
       "      <th>100.0000</th>\n",
       "    </tr>\n",
       "  </thead>\n",
       "  <tbody>\n",
       "    <tr>\n",
       "      <th>1</th>\n",
       "      <td>0.003411</td>\n",
       "      <td>0.003416</td>\n",
       "      <td>0.003422</td>\n",
       "      <td>0.003427</td>\n",
       "      <td>0.003432</td>\n",
       "      <td>0.003438</td>\n",
       "      <td>0.003443</td>\n",
       "      <td>0.003449</td>\n",
       "      <td>0.003454</td>\n",
       "      <td>0.003459</td>\n",
       "      <td>...</td>\n",
       "      <td>0.003403</td>\n",
       "      <td>0.003403</td>\n",
       "      <td>0.003402</td>\n",
       "      <td>0.003402</td>\n",
       "      <td>0.003402</td>\n",
       "      <td>0.003402</td>\n",
       "      <td>0.003402</td>\n",
       "      <td>0.003402</td>\n",
       "      <td>0.003402</td>\n",
       "      <td>0.003402</td>\n",
       "    </tr>\n",
       "    <tr>\n",
       "      <th>2</th>\n",
       "      <td>0.004660</td>\n",
       "      <td>0.004670</td>\n",
       "      <td>0.004680</td>\n",
       "      <td>0.004691</td>\n",
       "      <td>0.004701</td>\n",
       "      <td>0.004712</td>\n",
       "      <td>0.004722</td>\n",
       "      <td>0.004732</td>\n",
       "      <td>0.004743</td>\n",
       "      <td>0.004753</td>\n",
       "      <td>...</td>\n",
       "      <td>0.004642</td>\n",
       "      <td>0.004642</td>\n",
       "      <td>0.004642</td>\n",
       "      <td>0.004642</td>\n",
       "      <td>0.004641</td>\n",
       "      <td>0.004641</td>\n",
       "      <td>0.004641</td>\n",
       "      <td>0.004641</td>\n",
       "      <td>0.004641</td>\n",
       "      <td>0.004641</td>\n",
       "    </tr>\n",
       "    <tr>\n",
       "      <th>3</th>\n",
       "      <td>0.005960</td>\n",
       "      <td>0.005977</td>\n",
       "      <td>0.005993</td>\n",
       "      <td>0.006009</td>\n",
       "      <td>0.006026</td>\n",
       "      <td>0.006042</td>\n",
       "      <td>0.006058</td>\n",
       "      <td>0.006075</td>\n",
       "      <td>0.006091</td>\n",
       "      <td>0.006107</td>\n",
       "      <td>...</td>\n",
       "      <td>0.005933</td>\n",
       "      <td>0.005932</td>\n",
       "      <td>0.005932</td>\n",
       "      <td>0.005932</td>\n",
       "      <td>0.005931</td>\n",
       "      <td>0.005931</td>\n",
       "      <td>0.005931</td>\n",
       "      <td>0.005931</td>\n",
       "      <td>0.005931</td>\n",
       "      <td>0.005930</td>\n",
       "    </tr>\n",
       "    <tr>\n",
       "      <th>4</th>\n",
       "      <td>0.007236</td>\n",
       "      <td>0.007258</td>\n",
       "      <td>0.007281</td>\n",
       "      <td>0.007303</td>\n",
       "      <td>0.007326</td>\n",
       "      <td>0.007348</td>\n",
       "      <td>0.007370</td>\n",
       "      <td>0.007393</td>\n",
       "      <td>0.007415</td>\n",
       "      <td>0.007438</td>\n",
       "      <td>...</td>\n",
       "      <td>0.007197</td>\n",
       "      <td>0.007196</td>\n",
       "      <td>0.007196</td>\n",
       "      <td>0.007195</td>\n",
       "      <td>0.007195</td>\n",
       "      <td>0.007195</td>\n",
       "      <td>0.007195</td>\n",
       "      <td>0.007194</td>\n",
       "      <td>0.007194</td>\n",
       "      <td>0.007194</td>\n",
       "    </tr>\n",
       "    <tr>\n",
       "      <th>5</th>\n",
       "      <td>0.008476</td>\n",
       "      <td>0.008505</td>\n",
       "      <td>0.008533</td>\n",
       "      <td>0.008562</td>\n",
       "      <td>0.008590</td>\n",
       "      <td>0.008619</td>\n",
       "      <td>0.008647</td>\n",
       "      <td>0.008676</td>\n",
       "      <td>0.008704</td>\n",
       "      <td>0.008733</td>\n",
       "      <td>...</td>\n",
       "      <td>0.008426</td>\n",
       "      <td>0.008425</td>\n",
       "      <td>0.008425</td>\n",
       "      <td>0.008424</td>\n",
       "      <td>0.008424</td>\n",
       "      <td>0.008424</td>\n",
       "      <td>0.008424</td>\n",
       "      <td>0.008423</td>\n",
       "      <td>0.008423</td>\n",
       "      <td>0.008423</td>\n",
       "    </tr>\n",
       "    <tr>\n",
       "      <th>6</th>\n",
       "      <td>0.009683</td>\n",
       "      <td>0.009718</td>\n",
       "      <td>0.009752</td>\n",
       "      <td>0.009787</td>\n",
       "      <td>0.009821</td>\n",
       "      <td>0.009855</td>\n",
       "      <td>0.009890</td>\n",
       "      <td>0.009924</td>\n",
       "      <td>0.009959</td>\n",
       "      <td>0.009993</td>\n",
       "      <td>...</td>\n",
       "      <td>0.009622</td>\n",
       "      <td>0.009621</td>\n",
       "      <td>0.009621</td>\n",
       "      <td>0.009620</td>\n",
       "      <td>0.009620</td>\n",
       "      <td>0.009620</td>\n",
       "      <td>0.009619</td>\n",
       "      <td>0.009619</td>\n",
       "      <td>0.009619</td>\n",
       "      <td>0.009619</td>\n",
       "    </tr>\n",
       "    <tr>\n",
       "      <th>7</th>\n",
       "      <td>0.010861</td>\n",
       "      <td>0.010901</td>\n",
       "      <td>0.010941</td>\n",
       "      <td>0.010981</td>\n",
       "      <td>0.011022</td>\n",
       "      <td>0.011062</td>\n",
       "      <td>0.011102</td>\n",
       "      <td>0.011142</td>\n",
       "      <td>0.011182</td>\n",
       "      <td>0.011223</td>\n",
       "      <td>...</td>\n",
       "      <td>0.010789</td>\n",
       "      <td>0.010788</td>\n",
       "      <td>0.010788</td>\n",
       "      <td>0.010787</td>\n",
       "      <td>0.010787</td>\n",
       "      <td>0.010786</td>\n",
       "      <td>0.010786</td>\n",
       "      <td>0.010785</td>\n",
       "      <td>0.010785</td>\n",
       "      <td>0.010785</td>\n",
       "    </tr>\n",
       "    <tr>\n",
       "      <th>8</th>\n",
       "      <td>0.012012</td>\n",
       "      <td>0.012058</td>\n",
       "      <td>0.012104</td>\n",
       "      <td>0.012150</td>\n",
       "      <td>0.012196</td>\n",
       "      <td>0.012241</td>\n",
       "      <td>0.012287</td>\n",
       "      <td>0.012333</td>\n",
       "      <td>0.012379</td>\n",
       "      <td>0.012425</td>\n",
       "      <td>...</td>\n",
       "      <td>0.011930</td>\n",
       "      <td>0.011929</td>\n",
       "      <td>0.011928</td>\n",
       "      <td>0.011928</td>\n",
       "      <td>0.011927</td>\n",
       "      <td>0.011927</td>\n",
       "      <td>0.011926</td>\n",
       "      <td>0.011926</td>\n",
       "      <td>0.011926</td>\n",
       "      <td>0.011925</td>\n",
       "    </tr>\n",
       "    <tr>\n",
       "      <th>9</th>\n",
       "      <td>0.013140</td>\n",
       "      <td>0.013192</td>\n",
       "      <td>0.013243</td>\n",
       "      <td>0.013295</td>\n",
       "      <td>0.013346</td>\n",
       "      <td>0.013398</td>\n",
       "      <td>0.013449</td>\n",
       "      <td>0.013500</td>\n",
       "      <td>0.013552</td>\n",
       "      <td>0.013603</td>\n",
       "      <td>...</td>\n",
       "      <td>0.013048</td>\n",
       "      <td>0.013047</td>\n",
       "      <td>0.013046</td>\n",
       "      <td>0.013046</td>\n",
       "      <td>0.013045</td>\n",
       "      <td>0.013045</td>\n",
       "      <td>0.013044</td>\n",
       "      <td>0.013044</td>\n",
       "      <td>0.013044</td>\n",
       "      <td>0.013043</td>\n",
       "    </tr>\n",
       "    <tr>\n",
       "      <th>10</th>\n",
       "      <td>0.014248</td>\n",
       "      <td>0.014305</td>\n",
       "      <td>0.014362</td>\n",
       "      <td>0.014419</td>\n",
       "      <td>0.014476</td>\n",
       "      <td>0.014533</td>\n",
       "      <td>0.014589</td>\n",
       "      <td>0.014646</td>\n",
       "      <td>0.014703</td>\n",
       "      <td>0.014760</td>\n",
       "      <td>...</td>\n",
       "      <td>0.014146</td>\n",
       "      <td>0.014145</td>\n",
       "      <td>0.014144</td>\n",
       "      <td>0.014143</td>\n",
       "      <td>0.014143</td>\n",
       "      <td>0.014142</td>\n",
       "      <td>0.014142</td>\n",
       "      <td>0.014141</td>\n",
       "      <td>0.014141</td>\n",
       "      <td>0.014141</td>\n",
       "    </tr>\n",
       "  </tbody>\n",
       "</table>\n",
       "<p>10 rows × 91 columns</p>\n",
       "</div>"
      ],
      "text/plain": [
       "    0.0010    0.0015    0.0020    0.0025    0.0030    0.0035    0.0040    \\\n",
       "1   0.003411  0.003416  0.003422  0.003427  0.003432  0.003438  0.003443   \n",
       "2   0.004660  0.004670  0.004680  0.004691  0.004701  0.004712  0.004722   \n",
       "3   0.005960  0.005977  0.005993  0.006009  0.006026  0.006042  0.006058   \n",
       "4   0.007236  0.007258  0.007281  0.007303  0.007326  0.007348  0.007370   \n",
       "5   0.008476  0.008505  0.008533  0.008562  0.008590  0.008619  0.008647   \n",
       "6   0.009683  0.009718  0.009752  0.009787  0.009821  0.009855  0.009890   \n",
       "7   0.010861  0.010901  0.010941  0.010981  0.011022  0.011062  0.011102   \n",
       "8   0.012012  0.012058  0.012104  0.012150  0.012196  0.012241  0.012287   \n",
       "9   0.013140  0.013192  0.013243  0.013295  0.013346  0.013398  0.013449   \n",
       "10  0.014248  0.014305  0.014362  0.014419  0.014476  0.014533  0.014589   \n",
       "\n",
       "    0.0045    0.0050    0.0055    ...  55.0000   60.0000   65.0000   70.0000   \\\n",
       "1   0.003449  0.003454  0.003459  ...  0.003403  0.003403  0.003402  0.003402   \n",
       "2   0.004732  0.004743  0.004753  ...  0.004642  0.004642  0.004642  0.004642   \n",
       "3   0.006075  0.006091  0.006107  ...  0.005933  0.005932  0.005932  0.005932   \n",
       "4   0.007393  0.007415  0.007438  ...  0.007197  0.007196  0.007196  0.007195   \n",
       "5   0.008676  0.008704  0.008733  ...  0.008426  0.008425  0.008425  0.008424   \n",
       "6   0.009924  0.009959  0.009993  ...  0.009622  0.009621  0.009621  0.009620   \n",
       "7   0.011142  0.011182  0.011223  ...  0.010789  0.010788  0.010788  0.010787   \n",
       "8   0.012333  0.012379  0.012425  ...  0.011930  0.011929  0.011928  0.011928   \n",
       "9   0.013500  0.013552  0.013603  ...  0.013048  0.013047  0.013046  0.013046   \n",
       "10  0.014646  0.014703  0.014760  ...  0.014146  0.014145  0.014144  0.014143   \n",
       "\n",
       "    75.0000   80.0000   85.0000   90.0000   95.0000   100.0000  \n",
       "1   0.003402  0.003402  0.003402  0.003402  0.003402  0.003402  \n",
       "2   0.004641  0.004641  0.004641  0.004641  0.004641  0.004641  \n",
       "3   0.005931  0.005931  0.005931  0.005931  0.005931  0.005930  \n",
       "4   0.007195  0.007195  0.007195  0.007194  0.007194  0.007194  \n",
       "5   0.008424  0.008424  0.008424  0.008423  0.008423  0.008423  \n",
       "6   0.009620  0.009620  0.009619  0.009619  0.009619  0.009619  \n",
       "7   0.010787  0.010786  0.010786  0.010785  0.010785  0.010785  \n",
       "8   0.011927  0.011927  0.011926  0.011926  0.011926  0.011925  \n",
       "9   0.013045  0.013045  0.013044  0.013044  0.013044  0.013043  \n",
       "10  0.014143  0.014142  0.014142  0.014141  0.014141  0.014141  \n",
       "\n",
       "[10 rows x 91 columns]"
      ]
     },
     "execution_count": 9,
     "metadata": {},
     "output_type": "execute_result"
    }
   ],
   "source": [
    "df_flujocalor = pd.DataFrame(data = flujocalor,\n",
    "                                 index = np.round(exponentes, 5),\n",
    "                                 columns = np.round(frecuencias, 5))\n",
    "df_flujocalor"
   ]
  },
  {
   "cell_type": "code",
   "execution_count": 10,
   "metadata": {},
   "outputs": [
    {
     "data": {
      "image/png": "[encoded data removed]",
      "text/plain": [
       "<Figure size 3000x500 with 2 Axes>"
      ]
     },
     "metadata": {},
     "output_type": "display_data"
    }
   ],
   "source": [
    "plt.figure(figsize = (30,5))\n",
    "ax = sns.heatmap(data = df_flujocalor, cmap = \"mako\", cbar_kws = {\"label\" : \"$R$\"}, vmax = np.max(flujocalor), vmin = np.min(flujocalor), robust = True, linewidths = 0.0)\n",
    "ax.set(xlabel=\"$\\omega$\",\n",
    "       ylabel=\"$n$\",)\n",
    "ax.invert_yaxis()\n",
    "plt.savefig(\"graficas/rectificacion_heatmap.png\", dpi = 300, bbox_inches = \"tight\")\n",
    "plt.show()"
   ]
  }
 ],
 "metadata": {
  "kernelspec": {
   "display_name": "base",
   "language": "python",
   "name": "python3"
  },
  "language_info": {
   "codemirror_mode": {
    "name": "ipython",
    "version": 3
   },
   "file_extension": ".py",
   "mimetype": "text/x-python",
   "name": "python",
   "nbconvert_exporter": "python",
   "pygments_lexer": "ipython3",
   "version": "3.11.4"
  },
  "orig_nbformat": 4,
  "vscode": {
   "interpreter": {
    "hash": "5c4590bf2d3468efc31a2644735443d7129475db15d3a9123d91cb9c3c861e16"
   }
  }
 },
 "nbformat": 4,
 "nbformat_minor": 2
}
