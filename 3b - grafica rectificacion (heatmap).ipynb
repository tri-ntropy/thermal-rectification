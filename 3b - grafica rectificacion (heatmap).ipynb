{
 "cells": [
  {
   "attachments": {},
   "cell_type": "markdown",
   "metadata": {},
   "source": [
    "# Rectificación térmica"
   ]
  },
  {
   "cell_type": "code",
   "execution_count": 1,
   "metadata": {},
   "outputs": [],
   "source": [
    "import matplotlib.pyplot as plt\n",
    "import scienceplots\n",
    "import seaborn as sns\n",
    "import pandas as pd\n",
    "import numpy as np"
   ]
  },
  {
   "cell_type": "markdown",
   "metadata": {},
   "source": [
    "## Opciones de graficación\n",
    "Estética de las gráficas"
   ]
  },
  {
   "cell_type": "code",
   "execution_count": 2,
   "metadata": {},
   "outputs": [],
   "source": [
    "sns.set_context(\"paper\", font_scale = 1.6)\n",
    "plt.style.use([\"science\", \"grid\"])"
   ]
  },
  {
   "cell_type": "markdown",
   "metadata": {},
   "source": [
    "## Archivos con los datos del flujo de calor"
   ]
  },
  {
   "cell_type": "code",
   "execution_count": 3,
   "metadata": {},
   "outputs": [
    {
     "data": {
      "text/plain": [
       "91"
      ]
     },
     "execution_count": 3,
     "metadata": {},
     "output_type": "execute_result"
    }
   ],
   "source": [
    "frecuencias = np.loadtxt(\"datos/frecuencias_heatmap.csv\")\n",
    "frecuencias.size"
   ]
  },
  {
   "cell_type": "code",
   "execution_count": 4,
   "metadata": {},
   "outputs": [],
   "source": [
    "exponentes = np.loadtxt(\"datos/exponente_heatmap.csv\").astype(int)\n",
    "nexp = exponentes.size"
   ]
  },
  {
   "cell_type": "code",
   "execution_count": 5,
   "metadata": {},
   "outputs": [
    {
     "data": {
      "text/plain": [
       "(10, 91)"
      ]
     },
     "execution_count": 5,
     "metadata": {},
     "output_type": "execute_result"
    }
   ],
   "source": [
    "flujocalor_izq = np.loadtxt(\"datos/flujocalor_izq_heatmap.csv\")\n",
    "flujocalor_izq.shape"
   ]
  },
  {
   "cell_type": "code",
   "execution_count": 6,
   "metadata": {},
   "outputs": [
    {
     "data": {
      "text/plain": [
       "(10, 91)"
      ]
     },
     "execution_count": 6,
     "metadata": {},
     "output_type": "execute_result"
    }
   ],
   "source": [
    "flujocalor_der = np.loadtxt(\"datos/flujocalor_der_heatmap.csv\")\n",
    "flujocalor_der.shape"
   ]
  },
  {
   "cell_type": "code",
   "execution_count": 7,
   "metadata": {},
   "outputs": [],
   "source": [
    "if np.all(flujocalor_der > flujocalor_izq):\n",
    "    flujocalor_max = flujocalor_der\n",
    "    flujocalor_min = flujocalor_izq\n",
    "else:\n",
    "    flujocalor_max = flujocalor_izq\n",
    "    flujocalor_min = flujocalor_der"
   ]
  },
  {
   "cell_type": "code",
   "execution_count": 8,
   "metadata": {},
   "outputs": [
    {
     "data": {
      "text/plain": [
       "(10, 91)"
      ]
     },
     "execution_count": 8,
     "metadata": {},
     "output_type": "execute_result"
    }
   ],
   "source": [
    "flujocalor = flujocalor_max - flujocalor_min\n",
    "flujocalor.shape"
   ]
  },
  {
   "cell_type": "code",
   "execution_count": 9,
   "metadata": {},
   "outputs": [
    {
     "data": {
      "text/html": [
       "<div>\n",
       "<style scoped>\n",
       "    .dataframe tbody tr th:only-of-type {\n",
       "        vertical-align: middle;\n",
       "    }\n",
       "\n",
       "    .dataframe tbody tr th {\n",
       "        vertical-align: top;\n",
       "    }\n",
       "\n",
       "    .dataframe thead th {\n",
       "        text-align: right;\n",
       "    }\n",
       "</style>\n",
       "<table border=\"1\" class=\"dataframe\">\n",
       "  <thead>\n",
       "    <tr style=\"text-align: right;\">\n",
       "      <th></th>\n",
       "      <th>0.0010</th>\n",
       "      <th>0.0015</th>\n",
       "      <th>0.0020</th>\n",
       "      <th>0.0025</th>\n",
       "      <th>0.0030</th>\n",
       "      <th>0.0035</th>\n",
       "      <th>0.0040</th>\n",
       "      <th>0.0045</th>\n",
       "      <th>0.0050</th>\n",
       "      <th>0.0055</th>\n",
       "      <th>...</th>\n",
       "      <th>55.0000</th>\n",
       "      <th>60.0000</th>\n",
       "      <th>65.0000</th>\n",
       "      <th>70.0000</th>\n",
       "      <th>75.0000</th>\n",
       "      <th>80.0000</th>\n",
       "      <th>85.0000</th>\n",
       "      <th>90.0000</th>\n",
       "      <th>95.0000</th>\n",
       "      <th>100.0000</th>\n",
       "    </tr>\n",
       "  </thead>\n",
       "  <tbody>\n",
       "    <tr>\n",
       "      <th>1</th>\n",
       "      <td>0.015826</td>\n",
       "      <td>0.015888</td>\n",
       "      <td>0.015951</td>\n",
       "      <td>0.016014</td>\n",
       "      <td>0.016076</td>\n",
       "      <td>0.016139</td>\n",
       "      <td>0.016201</td>\n",
       "      <td>0.016264</td>\n",
       "      <td>0.016327</td>\n",
       "      <td>0.016389</td>\n",
       "      <td>...</td>\n",
       "      <td>0.015715</td>\n",
       "      <td>0.015713</td>\n",
       "      <td>0.015712</td>\n",
       "      <td>0.015712</td>\n",
       "      <td>0.015711</td>\n",
       "      <td>0.015710</td>\n",
       "      <td>0.015710</td>\n",
       "      <td>0.015709</td>\n",
       "      <td>0.015709</td>\n",
       "      <td>0.015708</td>\n",
       "    </tr>\n",
       "    <tr>\n",
       "      <th>2</th>\n",
       "      <td>0.021012</td>\n",
       "      <td>0.021101</td>\n",
       "      <td>0.021190</td>\n",
       "      <td>0.021278</td>\n",
       "      <td>0.021367</td>\n",
       "      <td>0.021456</td>\n",
       "      <td>0.021544</td>\n",
       "      <td>0.021633</td>\n",
       "      <td>0.021722</td>\n",
       "      <td>0.021810</td>\n",
       "      <td>...</td>\n",
       "      <td>0.020853</td>\n",
       "      <td>0.020851</td>\n",
       "      <td>0.020850</td>\n",
       "      <td>0.020849</td>\n",
       "      <td>0.020848</td>\n",
       "      <td>0.020847</td>\n",
       "      <td>0.020846</td>\n",
       "      <td>0.020846</td>\n",
       "      <td>0.020845</td>\n",
       "      <td>0.020845</td>\n",
       "    </tr>\n",
       "    <tr>\n",
       "      <th>3</th>\n",
       "      <td>0.026312</td>\n",
       "      <td>0.026427</td>\n",
       "      <td>0.026543</td>\n",
       "      <td>0.026658</td>\n",
       "      <td>0.026773</td>\n",
       "      <td>0.026888</td>\n",
       "      <td>0.027003</td>\n",
       "      <td>0.027118</td>\n",
       "      <td>0.027233</td>\n",
       "      <td>0.027348</td>\n",
       "      <td>...</td>\n",
       "      <td>0.026105</td>\n",
       "      <td>0.026103</td>\n",
       "      <td>0.026101</td>\n",
       "      <td>0.026100</td>\n",
       "      <td>0.026098</td>\n",
       "      <td>0.026097</td>\n",
       "      <td>0.026096</td>\n",
       "      <td>0.026096</td>\n",
       "      <td>0.026095</td>\n",
       "      <td>0.026094</td>\n",
       "    </tr>\n",
       "    <tr>\n",
       "      <th>4</th>\n",
       "      <td>0.031375</td>\n",
       "      <td>0.031515</td>\n",
       "      <td>0.031656</td>\n",
       "      <td>0.031796</td>\n",
       "      <td>0.031936</td>\n",
       "      <td>0.032077</td>\n",
       "      <td>0.032217</td>\n",
       "      <td>0.032357</td>\n",
       "      <td>0.032497</td>\n",
       "      <td>0.032637</td>\n",
       "      <td>...</td>\n",
       "      <td>0.031122</td>\n",
       "      <td>0.031120</td>\n",
       "      <td>0.031118</td>\n",
       "      <td>0.031116</td>\n",
       "      <td>0.031115</td>\n",
       "      <td>0.031113</td>\n",
       "      <td>0.031112</td>\n",
       "      <td>0.031111</td>\n",
       "      <td>0.031110</td>\n",
       "      <td>0.031110</td>\n",
       "    </tr>\n",
       "    <tr>\n",
       "      <th>5</th>\n",
       "      <td>0.036164</td>\n",
       "      <td>0.036328</td>\n",
       "      <td>0.036492</td>\n",
       "      <td>0.036656</td>\n",
       "      <td>0.036819</td>\n",
       "      <td>0.036983</td>\n",
       "      <td>0.037147</td>\n",
       "      <td>0.037311</td>\n",
       "      <td>0.037474</td>\n",
       "      <td>0.037638</td>\n",
       "      <td>...</td>\n",
       "      <td>0.035868</td>\n",
       "      <td>0.035865</td>\n",
       "      <td>0.035863</td>\n",
       "      <td>0.035861</td>\n",
       "      <td>0.035859</td>\n",
       "      <td>0.035858</td>\n",
       "      <td>0.035856</td>\n",
       "      <td>0.035855</td>\n",
       "      <td>0.035854</td>\n",
       "      <td>0.035853</td>\n",
       "    </tr>\n",
       "    <tr>\n",
       "      <th>6</th>\n",
       "      <td>0.040688</td>\n",
       "      <td>0.040874</td>\n",
       "      <td>0.041060</td>\n",
       "      <td>0.041247</td>\n",
       "      <td>0.041433</td>\n",
       "      <td>0.041619</td>\n",
       "      <td>0.041805</td>\n",
       "      <td>0.041991</td>\n",
       "      <td>0.042177</td>\n",
       "      <td>0.042362</td>\n",
       "      <td>...</td>\n",
       "      <td>0.040351</td>\n",
       "      <td>0.040348</td>\n",
       "      <td>0.040346</td>\n",
       "      <td>0.040344</td>\n",
       "      <td>0.040342</td>\n",
       "      <td>0.040340</td>\n",
       "      <td>0.040339</td>\n",
       "      <td>0.040337</td>\n",
       "      <td>0.040336</td>\n",
       "      <td>0.040335</td>\n",
       "    </tr>\n",
       "    <tr>\n",
       "      <th>7</th>\n",
       "      <td>0.044967</td>\n",
       "      <td>0.045174</td>\n",
       "      <td>0.045381</td>\n",
       "      <td>0.045588</td>\n",
       "      <td>0.045795</td>\n",
       "      <td>0.046002</td>\n",
       "      <td>0.046209</td>\n",
       "      <td>0.046416</td>\n",
       "      <td>0.046623</td>\n",
       "      <td>0.046830</td>\n",
       "      <td>...</td>\n",
       "      <td>0.044592</td>\n",
       "      <td>0.044589</td>\n",
       "      <td>0.044586</td>\n",
       "      <td>0.044583</td>\n",
       "      <td>0.044581</td>\n",
       "      <td>0.044580</td>\n",
       "      <td>0.044578</td>\n",
       "      <td>0.044577</td>\n",
       "      <td>0.044575</td>\n",
       "      <td>0.044574</td>\n",
       "    </tr>\n",
       "    <tr>\n",
       "      <th>8</th>\n",
       "      <td>0.049021</td>\n",
       "      <td>0.049248</td>\n",
       "      <td>0.049475</td>\n",
       "      <td>0.049702</td>\n",
       "      <td>0.049929</td>\n",
       "      <td>0.050156</td>\n",
       "      <td>0.050383</td>\n",
       "      <td>0.050609</td>\n",
       "      <td>0.050836</td>\n",
       "      <td>0.051063</td>\n",
       "      <td>...</td>\n",
       "      <td>0.048610</td>\n",
       "      <td>0.048606</td>\n",
       "      <td>0.048603</td>\n",
       "      <td>0.048601</td>\n",
       "      <td>0.048598</td>\n",
       "      <td>0.048596</td>\n",
       "      <td>0.048595</td>\n",
       "      <td>0.048593</td>\n",
       "      <td>0.048592</td>\n",
       "      <td>0.048590</td>\n",
       "    </tr>\n",
       "    <tr>\n",
       "      <th>9</th>\n",
       "      <td>0.052870</td>\n",
       "      <td>0.053116</td>\n",
       "      <td>0.053362</td>\n",
       "      <td>0.053608</td>\n",
       "      <td>0.053854</td>\n",
       "      <td>0.054100</td>\n",
       "      <td>0.054345</td>\n",
       "      <td>0.054591</td>\n",
       "      <td>0.054836</td>\n",
       "      <td>0.055082</td>\n",
       "      <td>...</td>\n",
       "      <td>0.052425</td>\n",
       "      <td>0.052421</td>\n",
       "      <td>0.052418</td>\n",
       "      <td>0.052415</td>\n",
       "      <td>0.052413</td>\n",
       "      <td>0.052410</td>\n",
       "      <td>0.052409</td>\n",
       "      <td>0.052407</td>\n",
       "      <td>0.052405</td>\n",
       "      <td>0.052404</td>\n",
       "    </tr>\n",
       "    <tr>\n",
       "      <th>10</th>\n",
       "      <td>0.056529</td>\n",
       "      <td>0.056793</td>\n",
       "      <td>0.057057</td>\n",
       "      <td>0.057321</td>\n",
       "      <td>0.057585</td>\n",
       "      <td>0.057848</td>\n",
       "      <td>0.058112</td>\n",
       "      <td>0.058375</td>\n",
       "      <td>0.058639</td>\n",
       "      <td>0.058902</td>\n",
       "      <td>...</td>\n",
       "      <td>0.056052</td>\n",
       "      <td>0.056048</td>\n",
       "      <td>0.056044</td>\n",
       "      <td>0.056041</td>\n",
       "      <td>0.056038</td>\n",
       "      <td>0.056036</td>\n",
       "      <td>0.056034</td>\n",
       "      <td>0.056032</td>\n",
       "      <td>0.056031</td>\n",
       "      <td>0.056029</td>\n",
       "    </tr>\n",
       "  </tbody>\n",
       "</table>\n",
       "<p>10 rows × 91 columns</p>\n",
       "</div>"
      ],
      "text/plain": [
       "    0.0010    0.0015    0.0020    0.0025    0.0030    0.0035    0.0040    \\\n",
       "1   0.015826  0.015888  0.015951  0.016014  0.016076  0.016139  0.016201   \n",
       "2   0.021012  0.021101  0.021190  0.021278  0.021367  0.021456  0.021544   \n",
       "3   0.026312  0.026427  0.026543  0.026658  0.026773  0.026888  0.027003   \n",
       "4   0.031375  0.031515  0.031656  0.031796  0.031936  0.032077  0.032217   \n",
       "5   0.036164  0.036328  0.036492  0.036656  0.036819  0.036983  0.037147   \n",
       "6   0.040688  0.040874  0.041060  0.041247  0.041433  0.041619  0.041805   \n",
       "7   0.044967  0.045174  0.045381  0.045588  0.045795  0.046002  0.046209   \n",
       "8   0.049021  0.049248  0.049475  0.049702  0.049929  0.050156  0.050383   \n",
       "9   0.052870  0.053116  0.053362  0.053608  0.053854  0.054100  0.054345   \n",
       "10  0.056529  0.056793  0.057057  0.057321  0.057585  0.057848  0.058112   \n",
       "\n",
       "    0.0045    0.0050    0.0055    ...  55.0000   60.0000   65.0000   70.0000   \\\n",
       "1   0.016264  0.016327  0.016389  ...  0.015715  0.015713  0.015712  0.015712   \n",
       "2   0.021633  0.021722  0.021810  ...  0.020853  0.020851  0.020850  0.020849   \n",
       "3   0.027118  0.027233  0.027348  ...  0.026105  0.026103  0.026101  0.026100   \n",
       "4   0.032357  0.032497  0.032637  ...  0.031122  0.031120  0.031118  0.031116   \n",
       "5   0.037311  0.037474  0.037638  ...  0.035868  0.035865  0.035863  0.035861   \n",
       "6   0.041991  0.042177  0.042362  ...  0.040351  0.040348  0.040346  0.040344   \n",
       "7   0.046416  0.046623  0.046830  ...  0.044592  0.044589  0.044586  0.044583   \n",
       "8   0.050609  0.050836  0.051063  ...  0.048610  0.048606  0.048603  0.048601   \n",
       "9   0.054591  0.054836  0.055082  ...  0.052425  0.052421  0.052418  0.052415   \n",
       "10  0.058375  0.058639  0.058902  ...  0.056052  0.056048  0.056044  0.056041   \n",
       "\n",
       "    75.0000   80.0000   85.0000   90.0000   95.0000   100.0000  \n",
       "1   0.015711  0.015710  0.015710  0.015709  0.015709  0.015708  \n",
       "2   0.020848  0.020847  0.020846  0.020846  0.020845  0.020845  \n",
       "3   0.026098  0.026097  0.026096  0.026096  0.026095  0.026094  \n",
       "4   0.031115  0.031113  0.031112  0.031111  0.031110  0.031110  \n",
       "5   0.035859  0.035858  0.035856  0.035855  0.035854  0.035853  \n",
       "6   0.040342  0.040340  0.040339  0.040337  0.040336  0.040335  \n",
       "7   0.044581  0.044580  0.044578  0.044577  0.044575  0.044574  \n",
       "8   0.048598  0.048596  0.048595  0.048593  0.048592  0.048590  \n",
       "9   0.052413  0.052410  0.052409  0.052407  0.052405  0.052404  \n",
       "10  0.056038  0.056036  0.056034  0.056032  0.056031  0.056029  \n",
       "\n",
       "[10 rows x 91 columns]"
      ]
     },
     "execution_count": 9,
     "metadata": {},
     "output_type": "execute_result"
    }
   ],
   "source": [
    "df_flujocalor = pd.DataFrame(data = flujocalor,\n",
    "                                 index = np.round(exponentes, 5),\n",
    "                                 columns = np.round(frecuencias, 5))\n",
    "df_flujocalor"
   ]
  },
  {
   "cell_type": "code",
   "execution_count": 10,
   "metadata": {},
   "outputs": [
    {
     "data": {
      "image/png": "[encoded data removed]",
      "text/plain": [
       "<Figure size 3000x500 with 2 Axes>"
      ]
     },
     "metadata": {},
     "output_type": "display_data"
    }
   ],
   "source": [
    "plt.figure(figsize = (30,5))\n",
    "ax = sns.heatmap(data = df_flujocalor, cmap = \"mako\", cbar_kws = {\"label\" : \"$R$\"}, vmax = np.max(flujocalor), vmin = np.min(flujocalor), robust = True, linewidths = 0.0)\n",
    "ax.set(xlabel=\"$\\omega$\",\n",
    "       ylabel=\"$n$\",)\n",
    "ax.invert_yaxis()\n",
    "plt.savefig(\"graficas/rectificacion_heatmap.png\", dpi = 300, bbox_inches = \"tight\")\n",
    "plt.show()"
   ]
  }
 ],
 "metadata": {
  "kernelspec": {
   "display_name": "base",
   "language": "python",
   "name": "python3"
  },
  "language_info": {
   "codemirror_mode": {
    "name": "ipython",
    "version": 3
   },
   "file_extension": ".py",
   "mimetype": "text/x-python",
   "name": "python",
   "nbconvert_exporter": "python",
   "pygments_lexer": "ipython3",
   "version": "3.9.16"
  },
  "orig_nbformat": 4,
  "vscode": {
   "interpreter": {
    "hash": "5c4590bf2d3468efc31a2644735443d7129475db15d3a9123d91cb9c3c861e16"
   }
  }
 },
 "nbformat": 4,
 "nbformat_minor": 2
}
