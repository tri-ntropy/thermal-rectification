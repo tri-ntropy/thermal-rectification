{
 "cells": [
  {
   "attachments": {},
   "cell_type": "markdown",
   "metadata": {},
   "source": [
    "# Solución de validación\n",
    "# $$\\dfrac{\\partial T}{\\partial t} = \\alpha \\dfrac{\\partial}{\\partial x}\\left[ D \\dfrac{\\partial T}{\\partial x} \\right] + \\beta \\dfrac{\\partial T}{\\partial x} + \\varsigma$$ \n",
    "\n",
    "# $$q = - k \\dfrac{\\partial T}{\\partial x}$$"
   ]
  },
  {
   "attachments": {},
   "cell_type": "markdown",
   "metadata": {},
   "source": [
    "La ecuación de transporte esta dada en su forma adimensional por medio de las siguientes variables adimensionales y parámetros:\n",
    "* $T$ es la temperatura\n",
    "* $t$ es el tiempo\n",
    "* $x$ es la dirección espacial x\n",
    "* $q$ es el flujo de calor\n",
    "* $D$ es la difusividad térmica $D = k c^{-1}$\n",
    "* Con $k$ la conductividad térmica y $c$ el producto de la densidad $\\rho$ con la capacidad calofífica a volumen constante $C_v$\n",
    "* El parámetro $\\alpha$ es el número de Fourier $\\alpha = D_0 t_0 L^{-2}$\n",
    "* Con $t_0$ es el tiempo carácterisco, $D_0$ es la difusividad térmica de referencia del material y $L$ es la longitud del material\n",
    "* El parámetro $\\beta$ esta definido por $\\beta = \\alpha D \\tfrac{\\partial}{\\partial x} \\left[ \\log (c) \\right]$\n",
    "* El parámetro $\\varsigma$ es la interacción del sistema con el ambiente\n",
    "\n",
    "Este problema en particular se va a resolver para las condiciones de frontera:\n",
    "* $T(0, t) = 2 \\quad$ y $\\quad T(1, t) = 5$\n",
    "\n",
    "La condición inicial\n",
    "* $T(x, 0) = 2$\n"
   ]
  },
  {
   "cell_type": "markdown",
   "metadata": {},
   "source": [
    "## Importación de bibliotecas\n",
    "Estas bibliotecas son las necesarias para llevar a cabo la simulación"
   ]
  },
  {
   "cell_type": "code",
   "execution_count": 343,
   "metadata": {},
   "outputs": [],
   "source": [
    "from IPython import display\n",
    "import ipywidgets                # Barra de progreso\n",
    "import numpy as np               # Cálculos numéricos basados en los arreglos numpy\n",
    "import matplotlib.pyplot as plt  # Graficación\n",
    "import scienceplots              # Estilos de graficacion\n",
    "import seaborn as sns\n",
    "from numba import jit            # Incrementa la velocidad de la simulación\n",
    "from scipy import integrate      # Modulo de integracion\n",
    "import modulo_fourier as mf      # Módulo que contiene las derivadas y el solver"
   ]
  },
  {
   "cell_type": "markdown",
   "metadata": {},
   "source": [
    "## Opciones de graficación\n",
    "Estética de las gráficas"
   ]
  },
  {
   "cell_type": "code",
   "execution_count": 344,
   "metadata": {},
   "outputs": [],
   "source": [
    "sns.set_context(\"paper\", font_scale = 1.5)\n",
    "plt.style.use([\"science\", \"grid\"])"
   ]
  },
  {
   "attachments": {},
   "cell_type": "markdown",
   "metadata": {},
   "source": [
    "## Simulación"
   ]
  },
  {
   "cell_type": "code",
   "execution_count": 345,
   "metadata": {},
   "outputs": [],
   "source": [
    "@jit(nopython = True)\n",
    "def simulacion(interaccion, valfa, vbeta, dif, nt, nx, dt, dx):\n",
    "    # Frontera\n",
    "    frontera = 5\n",
    "    # Condición inicial\n",
    "    sol_temperatura = 2 * np.ones(nx + 1)\n",
    "    # Simulacion\n",
    "    for n in range(nt + 1):\n",
    "        # Actualización de la frontera\n",
    "        sol_temperatura[-1] = frontera\n",
    "        # Calculo de la Temperatura\n",
    "        sol_temperatura = mf.rungekutta(sol_temperatura, interaccion, valfa, vbeta, dif, dx, dt)\n",
    "    #Devolver las series del flujo de calor del caso 1 y caso 2\n",
    "    return sol_temperatura"
   ]
  },
  {
   "cell_type": "markdown",
   "metadata": {},
   "source": [
    "## Dominio espacial\n",
    "\n",
    "La solución numérica del problema se presenta solo en una dimensión espacial"
   ]
  },
  {
   "cell_type": "code",
   "execution_count": 346,
   "metadata": {},
   "outputs": [
    {
     "data": {
      "text/plain": [
       "0.00390625"
      ]
     },
     "execution_count": 346,
     "metadata": {},
     "output_type": "execute_result"
    }
   ],
   "source": [
    "nx = 256                        # Numero de pasos en el espacio\n",
    "Lx = 1.0                        # Longitud del dominio espacial\n",
    "x = np.linspace(0, Lx, nx + 1)  # Vector del dominio espacial, contiene nx+1 puntos incluyendo el 0\n",
    "dx = x[1] - x[0]                # Tamaño de paso en el espacio\n",
    "dx"
   ]
  },
  {
   "cell_type": "markdown",
   "metadata": {},
   "source": [
    "## Dominio temporal\n",
    "\n",
    "El tiempo que se pretende dar solución al sistema de ecuaciones"
   ]
  },
  {
   "cell_type": "code",
   "execution_count": 347,
   "metadata": {},
   "outputs": [
    {
     "data": {
      "text/plain": [
       "1e-05"
      ]
     },
     "execution_count": 347,
     "metadata": {},
     "output_type": "execute_result"
    }
   ],
   "source": [
    "nt = 2_500_000                  # Numero de pasos en el tiempo\n",
    "Lt = 25.0                       # Longitud del dominio temporal\n",
    "t = np.linspace(0, Lt, nt + 1)  # Vector del dominio temporal, contiene nt+1 puntos incluyendo el 0\n",
    "dt = t[1] - t[0]                # Tamaño de paso en el tiempo\n",
    "dt"
   ]
  },
  {
   "attachments": {},
   "cell_type": "markdown",
   "metadata": {},
   "source": [
    "## Construcción del material\n",
    "### $D(x) \\;$ y $\\; \\rho C_v$"
   ]
  },
  {
   "cell_type": "code",
   "execution_count": 348,
   "metadata": {},
   "outputs": [],
   "source": [
    "difusividad = 0.5 * x + 0.2\n",
    "denxcap = np.ones(nx + 1)"
   ]
  },
  {
   "cell_type": "markdown",
   "metadata": {},
   "source": [
    "### Número de Fourier \n",
    "Como la conductividad/difusividad térmica adimensional ya está normalizada, se establece el término $D_0 = 1$\n",
    "\n",
    "Si se quiere que $\\alpha = 1$ entonces $t_0 = L^2 \\Delta t_0^{-1}$"
   ]
  },
  {
   "cell_type": "code",
   "execution_count": 349,
   "metadata": {},
   "outputs": [
    {
     "data": {
      "text/plain": [
       "1.0"
      ]
     },
     "execution_count": 349,
     "metadata": {},
     "output_type": "execute_result"
    }
   ],
   "source": [
    "dif_0 = 1.0\n",
    "dt_0 = (Lx ** 2) / dif_0\n",
    "alfa = dif_0 * dt_0 / (Lx**2)\n",
    "alfa"
   ]
  },
  {
   "cell_type": "markdown",
   "metadata": {},
   "source": [
    "### Arreglos del número de Fourier $\\alpha$\n",
    "Los arreglos son del tamaño del dominio espacial, sin embargo, aunque son constantes, los extremos (valores a la frontera) son cero para no modificar las fronteras del problema"
   ]
  },
  {
   "cell_type": "code",
   "execution_count": 350,
   "metadata": {},
   "outputs": [],
   "source": [
    "valfa = alfa * np.ones(nx + 1)  # Vector/arreglo alfa\n",
    "valfa[0], valfa[-1] = 0, 0      # Extremos del vector/arreglo alfa"
   ]
  },
  {
   "cell_type": "markdown",
   "metadata": {},
   "source": [
    "### Arreglos del parametro $\\beta$\n",
    "Los arreglos son del tamaño del dominio espacial, sin embargo, aunque son constantes, los extremos (valores a la frontera) son cero para no modificar las fronteras del problema"
   ]
  },
  {
   "cell_type": "code",
   "execution_count": 351,
   "metadata": {},
   "outputs": [],
   "source": [
    "vbeta = valfa * difusividad * mf.ddx(np.log(denxcap), dx)  # Vector/arreglo beta"
   ]
  },
  {
   "cell_type": "markdown",
   "metadata": {},
   "source": [
    "## Interacción con el ambiente\n",
    "Para este caso, el sistema es cerrado"
   ]
  },
  {
   "cell_type": "code",
   "execution_count": 352,
   "metadata": {},
   "outputs": [],
   "source": [
    "interaccion = np.zeros(nx + 1)"
   ]
  },
  {
   "attachments": {},
   "cell_type": "markdown",
   "metadata": {},
   "source": [
    "## Simulación"
   ]
  },
  {
   "cell_type": "code",
   "execution_count": 353,
   "metadata": {},
   "outputs": [],
   "source": [
    "perfil_temperatura_numerico = simulacion(interaccion, valfa, vbeta, difusividad, nt, nx, dt, dx)"
   ]
  },
  {
   "attachments": {},
   "cell_type": "markdown",
   "metadata": {},
   "source": [
    "## Solución analítica"
   ]
  },
  {
   "cell_type": "code",
   "execution_count": 354,
   "metadata": {},
   "outputs": [],
   "source": [
    "perfil_temperatura_analitico = 3 * (np.log(difusividad / 0.2) / np.log(0.7 / 0.2)) + 2"
   ]
  },
  {
   "attachments": {},
   "cell_type": "markdown",
   "metadata": {},
   "source": [
    "## Gráfica"
   ]
  },
  {
   "cell_type": "code",
   "execution_count": 355,
   "metadata": {},
   "outputs": [
    {
     "data": {
      "image/png": "[encoded data removed]",
      "text/plain": [
       "<Figure size 500x500 with 1 Axes>"
      ]
     },
     "metadata": {},
     "output_type": "display_data"
    }
   ],
   "source": [
    "plt.figure(figsize = (5, 5))\n",
    "plt.xlabel(\"$x$\")\n",
    "plt.ylabel(\"$T(x)$\")\n",
    "plt.plot(x, perfil_temperatura_analitico, lw = 1.0, label = \"Analytic\")\n",
    "plt.plot(x[::8], perfil_temperatura_numerico[::8], color = \"red\", ls = \"\", marker = \"+\", ms = 5.5, label = \"Numeric\")\n",
    "plt.legend(loc = \"best\")\n",
    "plt.savefig(\"graficas/validacion.pdf\", dpi = 300, bbox_inches = \"tight\")\n",
    "plt.show()"
   ]
  },
  {
   "attachments": {},
   "cell_type": "markdown",
   "metadata": {},
   "source": [
    "## Error"
   ]
  },
  {
   "cell_type": "code",
   "execution_count": 356,
   "metadata": {},
   "outputs": [
    {
     "data": {
      "text/plain": [
       "0.00011290556371079674"
      ]
     },
     "execution_count": 356,
     "metadata": {},
     "output_type": "execute_result"
    }
   ],
   "source": [
    "error = np.abs(perfil_temperatura_analitico - perfil_temperatura_numerico).max()\n",
    "error"
   ]
  }
 ],
 "metadata": {
  "kernelspec": {
   "display_name": "base",
   "language": "python",
   "name": "python3"
  },
  "language_info": {
   "codemirror_mode": {
    "name": "ipython",
    "version": 3
   },
   "file_extension": ".py",
   "mimetype": "text/x-python",
   "name": "python",
   "nbconvert_exporter": "python",
   "pygments_lexer": "ipython3",
   "version": "3.9.16"
  },
  "orig_nbformat": 4
 },
 "nbformat": 4,
 "nbformat_minor": 2
}
