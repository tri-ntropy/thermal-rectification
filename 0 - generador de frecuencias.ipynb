{
 "cells": [
  {
   "attachments": {},
   "cell_type": "markdown",
   "id": "c68d101c",
   "metadata": {},
   "source": [
    "# Generador de frecuencias para los experimentos"
   ]
  },
  {
   "cell_type": "markdown",
   "id": "d4c5ce38-fbfe-4fec-b02d-4c862c1770a2",
   "metadata": {},
   "source": [
    "## Bibliotecas"
   ]
  },
  {
   "cell_type": "code",
   "execution_count": 7,
   "id": "0408f080-1a54-44ee-a57b-3618d54e1bd2",
   "metadata": {},
   "outputs": [],
   "source": [
    "import numpy as np"
   ]
  },
  {
   "attachments": {},
   "cell_type": "markdown",
   "id": "a30aa897-8131-4ee1-b407-e043f5cf6964",
   "metadata": {
    "tags": []
   },
   "source": [
    "## Script generador\n",
    "Proceso principal"
   ]
  },
  {
   "cell_type": "code",
   "execution_count": 8,
   "id": "fb2e5f48-578b-4f82-a59d-8e9aeec45dcf",
   "metadata": {},
   "outputs": [
    {
     "name": "stdout",
     "output_type": "stream",
     "text": [
      "721 91\n"
     ]
    }
   ],
   "source": [
    "base = [0.001, 0.01, 0.1, 1.0, 10.0]  # Valores base de las frecuencias\n",
    "nfb = [9, 175, 259, 252, 25]          # Numero de frecuencias a generar por cada frecuencia base\n",
    "nfbs = [18, 18, 18, 18, 18]           # Numero de frecuencias a seleccionar por cada frecuencia base\n",
    "frecuencias = np.array([])            # Inicialización del arreglo de las frecuencias (gráficas de lineas)\n",
    "frecuencias_seleccion = np.array([])  # Inicialización del arreglo de las frecuencias seleccionadas (gráficas de heatmap)\n",
    "\n",
    "# Genera frecuencias a partir de las frecuencias base\n",
    "for f, nf, nfs in zip(base, nfb, nfbs):\n",
    "    rango = np.linspace(f, 10 * f, nf, endpoint = False) # endpoint para no duplicar datos\n",
    "    frecuencias = np.append(frecuencias, rango)\n",
    "    \n",
    "    rango_seleccion = np.linspace(f, 10 * f, nfs, endpoint = False) # endpoint para no duplicar datos\n",
    "    frecuencias_seleccion = np.append(frecuencias_seleccion, rango_seleccion)\n",
    "\n",
    "# Se agrega el último valor de las frecuencias base\n",
    "frecuencias = np.append(frecuencias, base[-1] * 10.0)\n",
    "frecuencias_seleccion = np.append(frecuencias_seleccion, base[-1] * 10.0)\n",
    "\n",
    "# Proceso de ordenamiento (opcional)\n",
    "frecuencias = np.sort(frecuencias)\n",
    "frecuencias_seleccion = np.sort(frecuencias_seleccion)\n",
    "\n",
    "# Verificación de cuantas frecuencias son generadas\n",
    "print(frecuencias.size, frecuencias_seleccion.size)"
   ]
  },
  {
   "cell_type": "markdown",
   "id": "021ac2ec-648b-4187-92a2-56721d46c2a3",
   "metadata": {},
   "source": [
    "## Archivos"
   ]
  },
  {
   "cell_type": "code",
   "execution_count": 9,
   "id": "e72163ad-bbab-489a-809d-f9a4f0bb3c94",
   "metadata": {},
   "outputs": [],
   "source": [
    "np.savetxt(\"datos/frecuencias_linea.csv\", frecuencias)\n",
    "np.savetxt(\"datos/frecuencias_heatmap.csv\", frecuencias_seleccion)"
   ]
  }
 ],
 "metadata": {
  "kernelspec": {
   "display_name": "base",
   "language": "python",
   "name": "python3"
  },
  "language_info": {
   "codemirror_mode": {
    "name": "ipython",
    "version": 3
   },
   "file_extension": ".py",
   "mimetype": "text/x-python",
   "name": "python",
   "nbconvert_exporter": "python",
   "pygments_lexer": "ipython3",
   "version": "3.9.16"
  },
  "vscode": {
   "interpreter": {
    "hash": "5c4590bf2d3468efc31a2644735443d7129475db15d3a9123d91cb9c3c861e16"
   }
  }
 },
 "nbformat": 4,
 "nbformat_minor": 5
}
